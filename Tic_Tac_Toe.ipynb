{
  "nbformat": 4,
  "nbformat_minor": 0,
  "metadata": {
    "colab": {
      "name": "Tic- Tac- Toe.ipynb",
      "provenance": [],
      "collapsed_sections": [],
      "include_colab_link": true
    },
    "kernelspec": {
      "name": "python3",
      "display_name": "Python 3"
    }
  },
  "cells": [
    {
      "cell_type": "markdown",
      "metadata": {
        "id": "view-in-github",
        "colab_type": "text"
      },
      "source": [
        "<a href=\"https://colab.research.google.com/github/smitalk/Tic--Tac---Toe-game-implementation/blob/master/Tic_Tac_Toe.ipynb\" target=\"_parent\"><img src=\"https://colab.research.google.com/assets/colab-badge.svg\" alt=\"Open In Colab\"/></a>"
      ]
    },
    {
      "cell_type": "markdown",
      "metadata": {
        "id": "4170vPMwUHOs",
        "colab_type": "text"
      },
      "source": [
        "Creation of 3x3 board"
      ]
    },
    {
      "cell_type": "code",
      "metadata": {
        "id": "D3n4ppz7UN59",
        "colab_type": "code",
        "outputId": "9b843744-9645-4897-c849-ffd590e5178c",
        "colab": {
          "base_uri": "https://localhost:8080/",
          "height": 67
        }
      },
      "source": [
        "from IPython.display import clear_output\n",
        "\n",
        "def display_board(board):\n",
        "  #clear_output()\n",
        "\n",
        "  #creation of board\n",
        "  \n",
        "  print(' '+board[7]+ ' | ' + board[8] + ' | ' + board[9])\n",
        "  print(' '+board[4]+ ' | ' + board[5] + ' | ' + board[6])\n",
        "  print(' '+board[1]+ ' | ' + board[2] + ' | '+ board[3])\n",
        "  \n",
        "\n",
        "  # checking the test board\n",
        "test_board = ['#','X','O','X','O','X','O','X','X','X']\n",
        "display_board(test_board)"
      ],
      "execution_count": 0,
      "outputs": [
        {
          "output_type": "stream",
          "text": [
            " X | X | X\n",
            " O | X | O\n",
            " X | O | X\n"
          ],
          "name": "stdout"
        }
      ]
    },
    {
      "cell_type": "markdown",
      "metadata": {
        "id": "Q-7NxqcVds7Z",
        "colab_type": "text"
      },
      "source": [
        "Taking input from player as marker 'X' or 'O'"
      ]
    },
    {
      "cell_type": "code",
      "metadata": {
        "id": "_GEXiJ_Wd0dd",
        "colab_type": "code",
        "outputId": "9e369249-9535-40d3-f027-dbde64d222ad",
        "colab": {
          "base_uri": "https://localhost:8080/",
          "height": 50
        }
      },
      "source": [
        "def player_input():\n",
        "  marker = ' '\n",
        "  while not (marker == 'X' or marker == 'O'):\n",
        "    marker = input(\"Player 1 do you want to be X or O ?\").upper()\n",
        "\n",
        "  if marker == 'X':\n",
        "    return('X', 'O')\n",
        "  else:\n",
        "    return('O', 'X')\n",
        "\n",
        "  # Checking the function\n",
        "player_input()"
      ],
      "execution_count": 0,
      "outputs": [
        {
          "output_type": "stream",
          "text": [
            "Player 1 do you want to be X or O ?X\n"
          ],
          "name": "stdout"
        },
        {
          "output_type": "execute_result",
          "data": {
            "text/plain": [
              "('X', 'O')"
            ]
          },
          "metadata": {
            "tags": []
          },
          "execution_count": 3
        }
      ]
    },
    {
      "cell_type": "markdown",
      "metadata": {
        "id": "6qkeM3VYfdIm",
        "colab_type": "text"
      },
      "source": [
        "Function assigning marker at desired position in board"
      ]
    },
    {
      "cell_type": "code",
      "metadata": {
        "id": "DSKdMQllfiVu",
        "colab_type": "code",
        "outputId": "db2dbafe-d92a-446e-ceee-edb8e72e018f",
        "colab": {
          "base_uri": "https://localhost:8080/",
          "height": 67
        }
      },
      "source": [
        "def place_marker(board,marker,position):\n",
        "  board[position] = marker\n",
        "\n",
        "#Testing function\n",
        "\n",
        "place_marker(test_board,'X',7)\n",
        "display_board(test_board)"
      ],
      "execution_count": 0,
      "outputs": [
        {
          "output_type": "stream",
          "text": [
            " X | X | X\n",
            " O | X | O\n",
            " X | O | X\n"
          ],
          "name": "stdout"
        }
      ]
    },
    {
      "cell_type": "markdown",
      "metadata": {
        "id": "xcguFid0hdC8",
        "colab_type": "text"
      },
      "source": [
        "Function to check board for win condition"
      ]
    },
    {
      "cell_type": "code",
      "metadata": {
        "id": "AkfE15Jvh_GW",
        "colab_type": "code",
        "outputId": "e63d56a5-6956-4fac-8b3e-a9d73f3ac549",
        "colab": {
          "base_uri": "https://localhost:8080/",
          "height": 34
        }
      },
      "source": [
        "def win_check(board,mark):\n",
        "  return ((board[7]== mark and board[8] == mark and board[9] == mark) or #across  the top\n",
        "          (board[4] == mark and board[5] == mark and board[6] == mark) or #across the middle\n",
        "          (board[1] == mark and board[2] == mark and board[3] == mark) or #across the low\n",
        "          (board[7] == mark and board[4] == mark and board[1] == mark) or #down left\n",
        "          (board[8] == mark and board[5] == mark and board[2] == mark) or #down middle\n",
        "          (board[9] == mark and board[6] == mark and board[3] == mark) or #down right\n",
        "          (board[7] == mark and board[5] == mark and board[3] == mark) or #diagonal\n",
        "          (board[9] == mark and board[5] == mark and board[1] == mark)) #diagonal\n",
        "# Test function\n",
        "win_check(test_board,'X')"
      ],
      "execution_count": 0,
      "outputs": [
        {
          "output_type": "execute_result",
          "data": {
            "text/plain": [
              "True"
            ]
          },
          "metadata": {
            "tags": []
          },
          "execution_count": 5
        }
      ]
    },
    {
      "cell_type": "markdown",
      "metadata": {
        "id": "DgiJFY0elCIA",
        "colab_type": "text"
      },
      "source": [
        "Random module to check which player goes first"
      ]
    },
    {
      "cell_type": "code",
      "metadata": {
        "id": "d3gk7NkalIrF",
        "colab_type": "code",
        "colab": {}
      },
      "source": [
        "import random\n",
        "def choose_first():\n",
        "  if random.randint(0,1) == 0:\n",
        "    return 'Player 1'\n",
        "  else:\n",
        "    return 'Player 2'"
      ],
      "execution_count": 0,
      "outputs": []
    },
    {
      "cell_type": "markdown",
      "metadata": {
        "id": "Vz20CGpSlqI9",
        "colab_type": "text"
      },
      "source": [
        "Check availability of free space on board"
      ]
    },
    {
      "cell_type": "code",
      "metadata": {
        "id": "PdXhpwu5lt67",
        "colab_type": "code",
        "colab": {}
      },
      "source": [
        "def space_check(board, position):\n",
        "  return board[position] == ' '"
      ],
      "execution_count": 0,
      "outputs": []
    },
    {
      "cell_type": "markdown",
      "metadata": {
        "id": "0LDlcM66mO-c",
        "colab_type": "text"
      },
      "source": [
        "Function to check if board is full and returns true in that case"
      ]
    },
    {
      "cell_type": "code",
      "metadata": {
        "id": "rkAXd7VGmVfw",
        "colab_type": "code",
        "colab": {}
      },
      "source": [
        "def full_board_check(board):\n",
        "  for i in range(1,10):\n",
        "    if space_check(board,i):\n",
        "      return False\n",
        "  return True"
      ],
      "execution_count": 0,
      "outputs": []
    },
    {
      "cell_type": "markdown",
      "metadata": {
        "id": "_k6dOdu4pCDM",
        "colab_type": "text"
      },
      "source": [
        "Function to ask player its next step after checking free space"
      ]
    },
    {
      "cell_type": "code",
      "metadata": {
        "id": "x9qoFyzfpK8g",
        "colab_type": "code",
        "colab": {}
      },
      "source": [
        "def player_choice(board):\n",
        "  position = 0\n",
        "\n",
        "  while position not in [1,2,3,4,5,6,7,8,9] or  not space_check(board,position):\n",
        "    position = int(input(\"Choose your next position: (1-9) \"))\n",
        "  return position\n"
      ],
      "execution_count": 0,
      "outputs": []
    },
    {
      "cell_type": "markdown",
      "metadata": {
        "id": "FiGb2W41qxyS",
        "colab_type": "text"
      },
      "source": [
        "Function to ask player to play again and true if they want to play"
      ]
    },
    {
      "cell_type": "code",
      "metadata": {
        "id": "hp1UKXQjq7pa",
        "colab_type": "code",
        "colab": {}
      },
      "source": [
        "def replay():\n",
        "  return input('Do you want to play again? Enter Yes or No: ').lower().startswith('y')"
      ],
      "execution_count": 0,
      "outputs": []
    },
    {
      "cell_type": "markdown",
      "metadata": {
        "id": "zMYXvvtXvFaC",
        "colab_type": "text"
      },
      "source": [
        "Function to run the game"
      ]
    },
    {
      "cell_type": "code",
      "metadata": {
        "id": "3opobLVIvI2K",
        "colab_type": "code",
        "outputId": "fe1ae13e-c9ea-41f6-b582-a75a3bf006d8",
        "colab": {
          "base_uri": "https://localhost:8080/",
          "height": 1000
        }
      },
      "source": [
        "print('Welcome to Tic Tac Toe !')\n",
        "\n",
        "while True:\n",
        "  theboard = [' ']*10  # clear board\n",
        "  player1_marker, player2_marker = player_input()\n",
        "  turn = choose_first()\n",
        "  print(turn+' will go first')\n",
        "  play_game = input('Are you ready to play? Enter yes or no:')\n",
        "  if play_game.lower()[0] == 'y' or r == 'y':\n",
        "    game_on = True\n",
        "  else:\n",
        "    game_on = False\n",
        "  \n",
        "  while game_on:\n",
        "    print(turn)\n",
        "    if turn == 'Player 1':\n",
        "      display_board(theboard)\n",
        "      position = player_choice(theboard)\n",
        "      place_marker(theboard,player1_marker,position)\n",
        "\n",
        "      if win_check(theboard, player1_marker):\n",
        "        display_board(theboard)\n",
        "        print(\"Congratulations player1 has won the game !\")\n",
        "        game_on = False\n",
        "        r = replay()\n",
        "      else:\n",
        "        if full_board_check(theboard):\n",
        "          display_board(theboard)\n",
        "          print('The game is draw!')\n",
        "          r = replay()\n",
        "          break\n",
        "        else:\n",
        "          turn = 'Player 2'\n",
        "        #Player 2\n",
        "    else:\n",
        "      display_board(theboard)\n",
        "      position = player_choice(theboard)\n",
        "      place_marker(theboard, player2_marker,position)\n",
        "\n",
        "      if win_check(theboard, player2_marker):\n",
        "        display_board(theboard)\n",
        "        print('Congratulations player2 has won the game !')\n",
        "        r = replay()\n",
        "        game_on = False\n",
        "      else:\n",
        "        if full_board_check(theboard):\n",
        "          display_board(theboard)\n",
        "          print('The game is draw!')\n",
        "          r = replay()\n",
        "          break\n",
        "        else:\n",
        "          turn = \"Player 1\"\n",
        "  if not replay():   \n",
        "      break\n"
      ],
      "execution_count": 0,
      "outputs": [
        {
          "output_type": "stream",
          "text": [
            "Welcome to Tic Tac Toe !\n",
            "Player 1 do you want to be X or O ?X\n",
            "Player 2 will go first\n",
            "Are you ready to play? Enter yes or no:yes\n",
            "Player 2\n",
            "   |   |  \n",
            "   |   |  \n",
            "   |   |  \n",
            "Choose your next position: (1-9) 7\n",
            "Player 1\n",
            " O |   |  \n",
            "   |   |  \n",
            "   |   |  \n",
            "Choose your next position: (1-9) 8\n",
            "Player 2\n",
            " O | X |  \n",
            "   |   |  \n",
            "   |   |  \n",
            "Choose your next position: (1-9) 5\n",
            "Player 1\n",
            " O | X |  \n",
            "   | O |  \n",
            "   |   |  \n",
            "Choose your next position: (1-9) 9\n",
            "Player 2\n",
            " O | X | X\n",
            "   | O |  \n",
            "   |   |  \n",
            "Choose your next position: (1-9) 3\n",
            " O | X | X\n",
            "   | O |  \n",
            "   |   | O\n",
            "Congratulations player2 has won the game !\n",
            "Do you want to play again? Enter Yes or No: yes\n",
            "Do you want to play again? Enter Yes or No: y\n",
            "Player 1 do you want to be X or O ?X\n",
            "Player 2 will go first\n",
            "Are you ready to play? Enter yes or no:yes\n",
            "Player 2\n",
            "   |   |  \n",
            "   |   |  \n",
            "   |   |  \n",
            "Choose your next position: (1-9) 7\n",
            "Player 1\n",
            " O |   |  \n",
            "   |   |  \n",
            "   |   |  \n",
            "Choose your next position: (1-9) 4\n",
            "Player 2\n",
            " O |   |  \n",
            " X |   |  \n",
            "   |   |  \n",
            "Choose your next position: (1-9) 8\n",
            "Player 1\n",
            " O | O |  \n",
            " X |   |  \n",
            "   |   |  \n",
            "Choose your next position: (1-9) 5\n",
            "Player 2\n",
            " O | O |  \n",
            " X | X |  \n",
            "   |   |  \n",
            "Choose your next position: (1-9) 9\n",
            " O | O | O\n",
            " X | X |  \n",
            "   |   |  \n",
            "Congratulations player2 has won the game !\n",
            "Do you want to play again? Enter Yes or No: no\n",
            "Do you want to play again? Enter Yes or No: no\n"
          ],
          "name": "stdout"
        }
      ]
    },
    {
      "cell_type": "code",
      "metadata": {
        "id": "MM_VwooXO2rB",
        "colab_type": "code",
        "colab": {}
      },
      "source": [
        ""
      ],
      "execution_count": 0,
      "outputs": []
    }
  ]
}